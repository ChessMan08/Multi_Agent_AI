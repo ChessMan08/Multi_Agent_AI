{
 "cells": [
  {
   "cell_type": "code",
   "execution_count": 1,
   "id": "e0cb00e0",
   "metadata": {},
   "outputs": [],
   "source": [
    "from memory import Memory\n",
    "from classifier_agent import ClassifierAgent\n",
    "from json_agent import JSONAgent\n",
    "from email_agent import EmailAgent\n",
    "\n",
    "mem = Memory(db_path=\":memory:\")"
   ]
  },
  {
   "cell_type": "code",
   "execution_count": 2,
   "id": "9f5815d1",
   "metadata": {},
   "outputs": [],
   "source": [
    "import os\n",
    "\n",
    "def run_pipeline(file_path):\n",
    "    classifier = ClassifierAgent(mem)\n",
    "    fmt, intent, payload = classifier.classify(file_path)\n",
    "    print(f\"► File: {os.path.basename(file_path)}\")\n",
    "    print(f\"  • Detected format: {fmt}\")\n",
    "    print(f\"  • Detected intent: {intent}\")\n",
    "    \n",
    "    if fmt == \"JSON\":\n",
    "        agent = JSONAgent(mem)\n",
    "        extracted, anomalies = agent.process(payload, intent, file_path)\n",
    "        print(\"  → JSON Agent output:\")\n",
    "        print(\"    • Extracted fields:\", extracted)\n",
    "        if anomalies:\n",
    "            print(\"    • Anomalies:\", anomalies)\n",
    "    elif fmt == \"Email\":\n",
    "        agent = EmailAgent(mem)\n",
    "        crm = agent.process(payload, file_path)\n",
    "        print(\"  → Email Agent output:\")\n",
    "        for k,v in crm.items():\n",
    "            print(f\"    • {k}: {v}\")\n",
    "    else:\n",
    "        snippet = payload[:200].replace(\"\\n\",\" \")\n",
    "        print(\"  → PDF text snippet:\", snippet, \"…\")\n",
    "    print()"
   ]
  },
  {
   "cell_type": "code",
   "execution_count": 3,
   "id": "ce817c5f",
   "metadata": {},
   "outputs": [
    {
     "name": "stdout",
     "output_type": "stream",
     "text": [
      "► File: sample_invoice.pdf\n",
      "  • Detected format: PDF\n",
      "  • Detected intent: Invoice\n",
      "  → PDF text snippet: INVOICE Invoice Number: INV-001 Date: 2025-05-28 Bill To: Acme Corporation 123 Elm Street Cityville, CV 12345 Description Qty Unit Price Total Widget A 5 $9.99 $49.95 Gadget B 2 $19.99 $39.98 Service  …\n",
      "\n",
      "► File: sample_input.json\n",
      "  • Detected format: JSON\n",
      "  • Detected intent: Invoice\n",
      "  → JSON Agent output:\n",
      "    • Extracted fields: {'invoice_number': 'INV-002', 'date': '2025-05-29', 'customer': {'name': 'Beta Corp', 'address': '123 Market St'}, 'items': [{'description': 'Widget', 'quantity': 10, 'unit_price': 9.99}, {'description': 'Gadget', 'quantity': 3, 'unit_price': 19.99}]}\n",
      "\n",
      "► File: sample_email.txt\n",
      "  • Detected format: Email\n",
      "  • Detected intent: Complaint\n",
      "  → Email Agent output:\n",
      "    • sender: alice@example.com\n",
      "    • subject: Complaint: Defective product received\n",
      "    • body: Hello,\n",
      "I would like to file a complaint regarding the product I received last week. It is defective...\n",
      "Please address this issue as soon as possible.\n",
      "Thank you,\n",
      "Alice\n",
      "    • intent: Complaint\n",
      "    • urgency: Normal\n",
      "\n"
     ]
    }
   ],
   "source": [
    "samples = [\"sample_invoice.pdf\", \"sample_input.json\", \"sample_email.txt\"]\n",
    "for f in samples:\n",
    "    run_pipeline(f)"
   ]
  },
  {
   "cell_type": "code",
   "execution_count": 4,
   "id": "018369eb",
   "metadata": {},
   "outputs": [
    {
     "name": "stderr",
     "output_type": "stream",
     "text": [
      "C:\\Users\\abhis\\anaconda3\\lib\\site-packages\\pandas\\core\\computation\\expressions.py:21: UserWarning: Pandas requires version '2.8.4' or newer of 'numexpr' (version '2.8.3' currently installed).\n",
      "  from pandas.core.computation.check import NUMEXPR_INSTALLED\n",
      "C:\\Users\\abhis\\anaconda3\\lib\\site-packages\\pandas\\core\\arrays\\masked.py:60: UserWarning: Pandas requires version '1.3.6' or newer of 'bottleneck' (version '1.3.5' currently installed).\n",
      "  from pandas.core import (\n"
     ]
    },
    {
     "data": {
      "text/html": [
       "<div>\n",
       "<style scoped>\n",
       "    .dataframe tbody tr th:only-of-type {\n",
       "        vertical-align: middle;\n",
       "    }\n",
       "\n",
       "    .dataframe tbody tr th {\n",
       "        vertical-align: top;\n",
       "    }\n",
       "\n",
       "    .dataframe thead th {\n",
       "        text-align: right;\n",
       "    }\n",
       "</style>\n",
       "<table border=\"1\" class=\"dataframe\">\n",
       "  <thead>\n",
       "    <tr style=\"text-align: right;\">\n",
       "      <th></th>\n",
       "      <th>id</th>\n",
       "      <th>source</th>\n",
       "      <th>format</th>\n",
       "      <th>intent</th>\n",
       "      <th>timestamp</th>\n",
       "      <th>extracted</th>\n",
       "      <th>thread_id</th>\n",
       "    </tr>\n",
       "  </thead>\n",
       "  <tbody>\n",
       "    <tr>\n",
       "      <th>0</th>\n",
       "      <td>1</td>\n",
       "      <td>sample_invoice.pdf</td>\n",
       "      <td>PDF</td>\n",
       "      <td>Invoice</td>\n",
       "      <td>2025-05-28T18:52:33.234549</td>\n",
       "      <td></td>\n",
       "      <td>sample_invoice.pdf</td>\n",
       "    </tr>\n",
       "    <tr>\n",
       "      <th>1</th>\n",
       "      <td>2</td>\n",
       "      <td>sample_input.json</td>\n",
       "      <td>JSON</td>\n",
       "      <td>Invoice</td>\n",
       "      <td>2025-05-28T18:52:33.236578</td>\n",
       "      <td></td>\n",
       "      <td>sample_input.json</td>\n",
       "    </tr>\n",
       "    <tr>\n",
       "      <th>2</th>\n",
       "      <td>3</td>\n",
       "      <td>sample_input.json</td>\n",
       "      <td>JSON</td>\n",
       "      <td>Invoice</td>\n",
       "      <td>2025-05-28T18:52:33.237118</td>\n",
       "      <td>{'invoice_number': 'INV-002', 'date': '2025-05...</td>\n",
       "      <td>sample_input.json</td>\n",
       "    </tr>\n",
       "    <tr>\n",
       "      <th>3</th>\n",
       "      <td>4</td>\n",
       "      <td>sample_email.txt</td>\n",
       "      <td>Email</td>\n",
       "      <td>Complaint</td>\n",
       "      <td>2025-05-28T18:52:33.237623</td>\n",
       "      <td></td>\n",
       "      <td>sample_email.txt</td>\n",
       "    </tr>\n",
       "    <tr>\n",
       "      <th>4</th>\n",
       "      <td>5</td>\n",
       "      <td>sample_email.txt</td>\n",
       "      <td>Email</td>\n",
       "      <td>Complaint</td>\n",
       "      <td>2025-05-28T18:52:33.238142</td>\n",
       "      <td>{'sender': 'alice@example.com', 'subject': 'Co...</td>\n",
       "      <td>sample_email.txt</td>\n",
       "    </tr>\n",
       "  </tbody>\n",
       "</table>\n",
       "</div>"
      ],
      "text/plain": [
       "   id              source format     intent                   timestamp  \\\n",
       "0   1  sample_invoice.pdf    PDF    Invoice  2025-05-28T18:52:33.234549   \n",
       "1   2   sample_input.json   JSON    Invoice  2025-05-28T18:52:33.236578   \n",
       "2   3   sample_input.json   JSON    Invoice  2025-05-28T18:52:33.237118   \n",
       "3   4    sample_email.txt  Email  Complaint  2025-05-28T18:52:33.237623   \n",
       "4   5    sample_email.txt  Email  Complaint  2025-05-28T18:52:33.238142   \n",
       "\n",
       "                                           extracted           thread_id  \n",
       "0                                                     sample_invoice.pdf  \n",
       "1                                                      sample_input.json  \n",
       "2  {'invoice_number': 'INV-002', 'date': '2025-05...   sample_input.json  \n",
       "3                                                       sample_email.txt  \n",
       "4  {'sender': 'alice@example.com', 'subject': 'Co...    sample_email.txt  "
      ]
     },
     "execution_count": 4,
     "metadata": {},
     "output_type": "execute_result"
    }
   ],
   "source": [
    "import pandas as pd\n",
    "\n",
    "rows = mem.fetch_all()\n",
    "df = pd.DataFrame(rows, columns=[\"id\",\"source\",\"format\",\"intent\",\"timestamp\",\"extracted\",\"thread_id\"])\n",
    "df"
   ]
  },
  {
   "cell_type": "code",
   "execution_count": null,
   "id": "a73f2fdf",
   "metadata": {},
   "outputs": [],
   "source": []
  }
 ],
 "metadata": {
  "kernelspec": {
   "display_name": "Python 3 (ipykernel)",
   "language": "python",
   "name": "python3"
  },
  "language_info": {
   "codemirror_mode": {
    "name": "ipython",
    "version": 3
   },
   "file_extension": ".py",
   "mimetype": "text/x-python",
   "name": "python",
   "nbconvert_exporter": "python",
   "pygments_lexer": "ipython3",
   "version": "3.9.13"
  }
 },
 "nbformat": 4,
 "nbformat_minor": 5
}
